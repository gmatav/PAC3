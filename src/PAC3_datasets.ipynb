{
 "cells": [
  {
   "cell_type": "code",
   "execution_count": null,
   "id": "eb704e3f-27d2-45c0-a262-a8526ec373b7",
   "metadata": {},
   "outputs": [],
   "source": [
    "import pandas as pd"
   ]
  },
  {
   "cell_type": "code",
   "execution_count": null,
   "id": "cbbd30ea-9e6c-47b0-afe4-770fdb20d2a4",
   "metadata": {},
   "outputs": [],
   "source": [
    "# Carregueem cada dataset en un datafrem. Cada dataset correspon a cada any, que contenen el nombre de publicacionsd dels paisos.\n",
    "articles_2016 = pd.read_csv(\"2016-tables-country.csv\", sep=',')\n",
    "articles_2017 = pd.read_csv(\"2017-tables-country.csv\", sep=',')\n",
    "articles_2018 = pd.read_csv(\"2018-tables-country.csv\", sep=',')\n",
    "articles_2019 = pd.read_csv(\"2019-tables-country.csv\", sep=',')\n",
    "articles_2020 = pd.read_csv(\"2020-tables-country.csv\", sep=',')\n",
    "articles_2021 = pd.read_csv(\"2021-tables-country.csv\", sep=',')\n",
    "articles_2022 = pd.read_csv(\"2022-tables-country.csv\", sep=',')\n",
    "articles_2023 = pd.read_csv(\"2023-tables-country.csv\", sep=',')"
   ]
  },
  {
   "cell_type": "code",
   "execution_count": null,
   "id": "9885301d-e87d-4f73-9ef5-f2a35e5ee1d6",
   "metadata": {},
   "outputs": [],
   "source": [
    "from functools import reduce\n",
    "\n",
    "# Llistat de tots els fitxers anteriors\n",
    "dfs = [articles_2016, articles_2017, articles_2018, articles_2019, articles_2020, articles_2021, articles_2022, articles_2023 ]\n",
    "\n",
    "# La fusió es basa en aquesta columna\n",
    "merge_on = \"Country/territory\"\n",
    "\n",
    "# No ens serveix la columna \"#\"\n",
    "for df in dfs:\n",
    "     if '#' in df.columns:\n",
    "         df.drop('#', axis=1, inplace=True)\n",
    "\n",
    "# Fusiona totes les taules en una sola\n",
    "df_merged = reduce(lambda  left,right: pd.merge(left,right,on=merge_on,\n",
    "                                            how='outer'), dfs).fillna('void')\n"
   ]
  },
  {
   "cell_type": "code",
   "execution_count": null,
   "id": "0ea35c43-5493-4194-aed8-fcce661e6e50",
   "metadata": {},
   "outputs": [],
   "source": [
    "# Eliminar valors buits\n",
    "df_merged.replace('void', pd.NA, inplace=True)\n",
    "\n",
    "# Elimina observacions que continguin valors nuls\n",
    "df_merged.dropna(inplace=True)\n"
   ]
  },
  {
   "cell_type": "code",
   "execution_count": null,
   "id": "37c209f4-eba8-425e-bcc5-635c5cf67c9d",
   "metadata": {},
   "outputs": [],
   "source": [
    "# Nomès volem les columnes que comencen per \"Count\"\n",
    "columns_to_keep = [col for col in df_merged.columns if col.startswith('Count')]\n",
    "\n",
    "# Filtrem el dataset amb aquestes columnes i el guardem en un nou DataFrame\n",
    "df_filtered = df_merged[columns_to_keep]\n",
    "\n",
    "df_filtered"
   ]
  },
  {
   "cell_type": "code",
   "execution_count": null,
   "id": "1f89a2f8-2b33-4543-9360-d1b64946b3c1",
   "metadata": {},
   "outputs": [],
   "source": [
    "# Ara treiem la paraula \"Count\" i deixem nomès els anys\n",
    "df_filtered.columns = df_filtered.columns.str.replace('Count ', '')\n",
    "\n",
    "# Exporta el dataframe a un fitxer CSV\n",
    "pd.DataFrame.to_csv(df_filtered, 'taules_fusionades.csv', sep=',', na_rep='.', index=False)"
   ]
  },
  {
   "cell_type": "code",
   "execution_count": null,
   "id": "b40ff692-caea-41dd-9c27-336cb76f2272",
   "metadata": {},
   "outputs": [],
   "source": [
    "# Creem un objecte de tipus Excel. Aquest dataset conté les puntuacions de PISA\n",
    "xls = pd.ExcelFile(\"pisa_historic.xlsx\")\n",
    "\n",
    "# Llistat buit que contindrà els dataframes\n",
    "df_list = []\n",
    "\n",
    "# Fem una iteració per a cada fulla del fitxer Excel\n",
    "for sheet_name in xls.sheet_names:\n",
    "    \n",
    "    # Llegeix i Guarda en un dataframe la fulla excel\n",
    "    df = pd.read_excel(\"pisa_historic.xlsx\", sheet_name=sheet_name)\n",
    "    \n",
    "    # La columna \"year\" tindrà el mateix nom que la fulla\n",
    "    year = sheet_name \n",
    "    # Renombra les columnes\n",
    "    df.columns = ['Country/territory', 'Mean Score'] \n",
    "    \n",
    "    # Afegim la columna 'year'\n",
    "    df['Year'] = year\n",
    "    \n",
    "    # Afegeix el dataframe a la llista\n",
    "    df_list.append(df)\n",
    "\n",
    "# Fusiona tots els DataFrames de la llista\n",
    "merged_df = pd.concat(df_list, ignore_index=True)\n",
    "\n",
    "# Volem tenir columnes separades per a cada un dels anys\n",
    "pivot_df = merged_df.pivot(index='Country/territory', columns='Year', values='Mean Score')\n",
    "\n",
    "# Fem un reset dels index\n",
    "pivot_df.reset_index(inplace=True)\n",
    "\n",
    "# Guarda el dataframe fusionat en una nova fulla dins el fitxer Excel\n",
    "with pd.ExcelWriter(\"pisa_historic.xlsx\", engine='openpyxl', mode='a') as writer:\n",
    "    \n",
    "    pivot_df.to_excel(writer, sheet_name='MergedData', index=False)\n"
   ]
  },
  {
   "cell_type": "code",
   "execution_count": null,
   "id": "a129c989-70a0-4a8c-8092-19c5b59e938e",
   "metadata": {},
   "outputs": [],
   "source": [
    "# Llegeix el dataset que conté la informació sobre la inversió en R&D dels paisos\n",
    "inversioRD = pd.read_csv(\"research-spending-gdp.csv\", sep=',')"
   ]
  },
  {
   "cell_type": "code",
   "execution_count": null,
   "id": "1e6c228b-e546-4950-ad42-02ce0f1eb854",
   "metadata": {},
   "outputs": [],
   "source": [
    "# Convertir la columna \"Year\" a format numèric i eliminem valors buits\n",
    "inversioRD['Year'] = pd.to_numeric(inversioRD['Year'], errors='coerce')\n",
    "inversioRD = inversioRD.dropna(subset=['Year'])\n",
    "\n",
    "# Filtrem per als anys igual o posterior al 2015\n",
    "filtered_df = inversioRD[inversioRD['Year'] >= 2015]\n",
    "\n",
    "# Exporta el dataframe a un fitxer .csv\n",
    "filtered_df.to_csv('filtered_dataset.csv', index=False)"
   ]
  },
  {
   "cell_type": "code",
   "execution_count": null,
   "id": "b1c1b5c5-dc98-4a4e-90df-704bedcf212c",
   "metadata": {},
   "outputs": [],
   "source": [
    "# Llegeix el CSV i guarda en un DataFrame\n",
    "df = pd.read_csv('merged_pub_RD.csv')\n",
    "\n",
    "# Desfem el dataframe per tenir les columnes 'years' en files\n",
    "melted_df = pd.melt(df, id_vars=['Entity', 'Code', 'Year', 'Research and development expenditure (% of GDP)'],\n",
    "                    var_name='Year_Column', value_name='Publications')\n",
    "\n",
    "# Extreu l'any de la columna 'Year_Column'\n",
    "melted_df['Year_Column'] = melted_df['Year_Column'].astype(str).str.extract(r'(\\d+)').astype(float)\n",
    "\n",
    "# Fusionem aquest nou dataframe amb l'original\n",
    "merged_df = pd.merge(df, melted_df[['Entity', 'Code', 'Year_Column', 'Publications']], \n",
    "                     left_on=['Entity', 'Year'], right_on=['Entity', 'Year_Column'], how='inner')\n",
    "\n",
    "# Ja no necessitem aquesta columna\n",
    "merged_df = merged_df.drop(['Year_Column'], axis=1)\n",
    "\n",
    "# Exporta el dataset a un fitxer CSV\n",
    "merged_df.to_csv('MegaDataset.csv', index=False)"
   ]
  },
  {
   "cell_type": "code",
   "execution_count": null,
   "id": "985caec6-b876-4611-8273-0996911b366b",
   "metadata": {},
   "outputs": [],
   "source": [
    "# Llegeix i carrega a datafraem fitxer Excel\n",
    "df = pd.read_excel(\"pisa_historic.xlsx\", engine='openpyxl')\n",
    "\n",
    "# # Creació d'un nou DataFrame del dataset melted\n",
    "melted_data = []\n",
    "\n",
    "for index, row in df.iterrows():\n",
    "    country = row['Country/territory']\n",
    "    for col in df.columns[1:]:  \n",
    "        year = col\n",
    "        value = row[col]\n",
    "        if not pd.isna(value): \n",
    "            melted_data.append({'Country/territory': country, 'Year': int(year), 'Value': value})\n",
    "\n",
    "melted_df = pd.DataFrame(melted_data)\n",
    "\n",
    "# Neteja la columna Value i converteix a float\n",
    "melted_df['Value'] = melted_df['Value'].astype(str).str.replace(',', '.').astype(float)\n",
    "\n",
    "# Exporta a CSV\n",
    "melted_df.to_csv('PISA_cada_any.csv', index=False)"
   ]
  },
  {
   "cell_type": "code",
   "execution_count": null,
   "id": "34d6ede0-121c-47a9-9e89-e30fcdc8d3ae",
   "metadata": {},
   "outputs": [],
   "source": [
    "# Carrega el primer dataset corresponent a R&D y Publicacions\n",
    "df1 = pd.read_csv(\"RD_y_publicacions.csv\")\n",
    "\n",
    "# Carrega el segon dataset corresopnent a PISA cada any\n",
    "df2 = pd.read_csv(\"PISA_cada_any.csv\")\n",
    "\n",
    "# Fusiona els datasets\n",
    "merged_df = pd.merge(df1, df2, on=['Pais', 'Year'], how='inner')\n",
    "merged_df['Value'] = merged_df['Value'].round(1)\n",
    "\n",
    "# Exporta a CSV\n",
    "merged_df.to_csv('fusio_pub_pisa.csv', index=False)"
   ]
  },
  {
   "cell_type": "code",
   "execution_count": null,
   "id": "74662f4a-d5a1-47a2-ab29-eb19ab659724",
   "metadata": {},
   "outputs": [],
   "source": []
  }
 ],
 "metadata": {
  "kernelspec": {
   "display_name": "Python 3 (ipykernel)",
   "language": "python",
   "name": "python3"
  },
  "language_info": {
   "codemirror_mode": {
    "name": "ipython",
    "version": 3
   },
   "file_extension": ".py",
   "mimetype": "text/x-python",
   "name": "python",
   "nbconvert_exporter": "python",
   "pygments_lexer": "ipython3",
   "version": "3.11.7"
  }
 },
 "nbformat": 4,
 "nbformat_minor": 5
}
